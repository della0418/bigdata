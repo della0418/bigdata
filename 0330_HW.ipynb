{
  "nbformat": 4,
  "nbformat_minor": 0,
  "metadata": {
    "colab": {
      "name": "0330-HW.ipynb",
      "provenance": [],
      "collapsed_sections": [],
      "include_colab_link": true
    },
    "kernelspec": {
      "name": "ir",
      "display_name": "R"
    }
  },
  "cells": [
    {
      "cell_type": "markdown",
      "metadata": {
        "id": "view-in-github",
        "colab_type": "text"
      },
      "source": [
        "<a href=\"https://colab.research.google.com/github/della0418/bigdata/blob/main/0330_HW.ipynb\" target=\"_parent\"><img src=\"https://colab.research.google.com/assets/colab-badge.svg\" alt=\"Open In Colab\"/></a>"
      ]
    },
    {
      "cell_type": "code",
      "metadata": {
        "colab": {
          "base_uri": "https://localhost:8080/"
        },
        "id": "GEqQcBbZN3mB",
        "outputId": "6610926a-ffdf-4a33-97b8-53c95645bed4"
      },
      "source": [
        "install.packages(\"rJava\")"
      ],
      "execution_count": 2,
      "outputs": [
        {
          "output_type": "stream",
          "text": [
            "Installing package into ‘/usr/local/lib/R/site-library’\n",
            "(as ‘lib’ is unspecified)\n",
            "\n"
          ],
          "name": "stderr"
        }
      ]
    },
    {
      "cell_type": "code",
      "metadata": {
        "colab": {
          "base_uri": "https://localhost:8080/"
        },
        "id": "_wr9Ws9mOL0j",
        "outputId": "3077c57e-18a2-4368-ca2f-7ae464709920"
      },
      "source": [
        "install.packages(\"jiebaR\")"
      ],
      "execution_count": 3,
      "outputs": [
        {
          "output_type": "stream",
          "text": [
            "Installing package into ‘/usr/local/lib/R/site-library’\n",
            "(as ‘lib’ is unspecified)\n",
            "\n",
            "also installing the dependency ‘jiebaRD’\n",
            "\n",
            "\n"
          ],
          "name": "stderr"
        }
      ]
    },
    {
      "cell_type": "code",
      "metadata": {
        "colab": {
          "base_uri": "https://localhost:8080/"
        },
        "id": "AfJIjtN7OOCh",
        "outputId": "2c88336d-8212-49e1-e79b-5e3bdebd5e9a"
      },
      "source": [
        "install.packages(\"tmcn\")"
      ],
      "execution_count": 4,
      "outputs": [
        {
          "output_type": "stream",
          "text": [
            "Installing package into ‘/usr/local/lib/R/site-library’\n",
            "(as ‘lib’ is unspecified)\n",
            "\n"
          ],
          "name": "stderr"
        }
      ]
    },
    {
      "cell_type": "code",
      "metadata": {
        "colab": {
          "base_uri": "https://localhost:8080/"
        },
        "id": "YiPDHCkpOQGh",
        "outputId": "81efef43-9334-4c18-b015-2e405c693d18"
      },
      "source": [
        "install.packages(\"dplyr\")"
      ],
      "execution_count": 5,
      "outputs": [
        {
          "output_type": "stream",
          "text": [
            "Installing package into ‘/usr/local/lib/R/site-library’\n",
            "(as ‘lib’ is unspecified)\n",
            "\n"
          ],
          "name": "stderr"
        }
      ]
    },
    {
      "cell_type": "code",
      "metadata": {
        "colab": {
          "base_uri": "https://localhost:8080/"
        },
        "id": "rP1TlfmIOSUB",
        "outputId": "986058f4-8180-4896-c12f-704056ba388e"
      },
      "source": [
        "install.packages(\"lubridate\")"
      ],
      "execution_count": 6,
      "outputs": [
        {
          "output_type": "stream",
          "text": [
            "Installing package into ‘/usr/local/lib/R/site-library’\n",
            "(as ‘lib’ is unspecified)\n",
            "\n"
          ],
          "name": "stderr"
        }
      ]
    },
    {
      "cell_type": "code",
      "metadata": {
        "colab": {
          "base_uri": "https://localhost:8080/"
        },
        "id": "PCQOgbSYOUg5",
        "outputId": "cc48bcce-a4ae-422f-8a99-0004a0311244"
      },
      "source": [
        "install.packages(\"stringr\")"
      ],
      "execution_count": 7,
      "outputs": [
        {
          "output_type": "stream",
          "text": [
            "Installing package into ‘/usr/local/lib/R/site-library’\n",
            "(as ‘lib’ is unspecified)\n",
            "\n"
          ],
          "name": "stderr"
        }
      ]
    },
    {
      "cell_type": "code",
      "metadata": {
        "colab": {
          "base_uri": "https://localhost:8080/"
        },
        "id": "Ki7gqUDGOWTx",
        "outputId": "97b3311a-eb13-4d0e-a98e-528b701cf5fb"
      },
      "source": [
        "install.packages(\"wordcloud\")"
      ],
      "execution_count": 8,
      "outputs": [
        {
          "output_type": "stream",
          "text": [
            "Installing package into ‘/usr/local/lib/R/site-library’\n",
            "(as ‘lib’ is unspecified)\n",
            "\n"
          ],
          "name": "stderr"
        }
      ]
    },
    {
      "cell_type": "code",
      "metadata": {
        "colab": {
          "base_uri": "https://localhost:8080/"
        },
        "id": "yG02I6csOY2Z",
        "outputId": "6793f4a7-8b68-4ba6-b53b-17779d41b149"
      },
      "source": [
        "install.packages(\"Rwordseg\",repos = \"http://R-project.org\")"
      ],
      "execution_count": 9,
      "outputs": [
        {
          "output_type": "stream",
          "text": [
            "Installing package into ‘/usr/local/lib/R/site-library’\n",
            "(as ‘lib’ is unspecified)\n",
            "\n",
            "Warning message:\n",
            "“unable to access index for repository http://R-project.org/src/contrib:\n",
            "  cannot open URL 'http://R-project.org/src/contrib/PACKAGES'”\n",
            "Warning message:\n",
            "“package ‘Rwordseg’ is not available for this version of R\n",
            "\n",
            "A version of this package for your version of R might be available elsewhere,\n",
            "see the ideas at\n",
            "https://cran.r-project.org/doc/manuals/r-patched/R-admin.html#Installing-packages”\n"
          ],
          "name": "stderr"
        }
      ]
    },
    {
      "cell_type": "code",
      "metadata": {
        "colab": {
          "base_uri": "https://localhost:8080/"
        },
        "id": "PCfbo5qKOiIy",
        "outputId": "0d89f78d-c026-4bca-953a-1b7b6ea1fc0f"
      },
      "source": [
        "library(dplyr)"
      ],
      "execution_count": 10,
      "outputs": [
        {
          "output_type": "stream",
          "text": [
            "\n",
            "Attaching package: ‘dplyr’\n",
            "\n",
            "\n",
            "The following objects are masked from ‘package:stats’:\n",
            "\n",
            "    filter, lag\n",
            "\n",
            "\n",
            "The following objects are masked from ‘package:base’:\n",
            "\n",
            "    intersect, setdiff, setequal, union\n",
            "\n",
            "\n"
          ],
          "name": "stderr"
        }
      ]
    },
    {
      "cell_type": "code",
      "metadata": {
        "colab": {
          "base_uri": "https://localhost:8080/"
        },
        "id": "KWZWeqAxOlwp",
        "outputId": "9a0e659a-9eb6-45d8-dcef-51ff27ea40e2"
      },
      "source": [
        "library(lubridate)"
      ],
      "execution_count": 11,
      "outputs": [
        {
          "output_type": "stream",
          "text": [
            "Warning message in system(\"timedatectl\", intern = TRUE):\n",
            "“running command 'timedatectl' had status 1”\n",
            "\n",
            "Attaching package: ‘lubridate’\n",
            "\n",
            "\n",
            "The following objects are masked from ‘package:base’:\n",
            "\n",
            "    date, intersect, setdiff, union\n",
            "\n",
            "\n"
          ],
          "name": "stderr"
        }
      ]
    },
    {
      "cell_type": "code",
      "metadata": {
        "id": "vOwbgIXPOnmk"
      },
      "source": [
        "library(stringr)"
      ],
      "execution_count": 12,
      "outputs": []
    },
    {
      "cell_type": "code",
      "metadata": {
        "id": "33CQxE98Oprh",
        "colab": {
          "base_uri": "https://localhost:8080/"
        },
        "outputId": "b5324e3b-3177-47bc-e5f0-20d1c37627f6"
      },
      "source": [
        "library(jiebaR)"
      ],
      "execution_count": 13,
      "outputs": [
        {
          "output_type": "stream",
          "text": [
            "Loading required package: jiebaRD\n",
            "\n"
          ],
          "name": "stderr"
        }
      ]
    },
    {
      "cell_type": "code",
      "metadata": {
        "colab": {
          "base_uri": "https://localhost:8080/"
        },
        "id": "6Ehqsue9Otex",
        "outputId": "814e72e6-135f-4ab7-8220-0a13ec2ba0ed"
      },
      "source": [
        "library(wordcloud)"
      ],
      "execution_count": 14,
      "outputs": [
        {
          "output_type": "stream",
          "text": [
            "Loading required package: RColorBrewer\n",
            "\n"
          ],
          "name": "stderr"
        }
      ]
    },
    {
      "cell_type": "code",
      "metadata": {
        "id": "Bpkc8PJDOxb5"
      },
      "source": [
        "content <- \"天后蔡依林（Jolin）將在下個月21、22、24、25、26日重返小巨蛋，5場「Ugly Beauty」演唱會門票開賣5分鐘就售罄，稍早有網友在PTT爆料售票系統KKTIX故意洩題，把票留給黃牛。\n",
        "\n",
        "網友貼出名為J開頭的網友的臉書截圖，指出KKTIX售票內部人員，已經把特區票未開賣前留給黃牛，還提供黃牛考試題目；另有網友曬出Line對話截圖，時間顯示為晚間7點19分，提供的問答題「Jolin近期與下列哪位百大DJ合作歌曲？」的確就是清票時的問題。\n",
        "\n",
        "對於網友質疑，KKTIX表示經內部初步調查，我方沒有將題目外洩。與主辦單位取得共識，我們將報警處理此事件。再次呼籲各位歌迷朋友，請勿透過來路不明的管道購票，更不要將個資提供給陌生人。\" #載入文字"
      ],
      "execution_count": 15,
      "outputs": []
    },
    {
      "cell_type": "code",
      "metadata": {
        "id": "vxfWcjH-PXTa"
      },
      "source": [
        "cutter <- worker(bylines = F) #定義斷詞器"
      ],
      "execution_count": 16,
      "outputs": []
    },
    {
      "cell_type": "code",
      "metadata": {
        "colab": {
          "base_uri": "https://localhost:8080/",
          "height": 85
        },
        "id": "sCHGbIhoPkZj",
        "outputId": "3dd522d6-0e2b-401e-b4d2-3cdc4e709743"
      },
      "source": [
        "cutter[content]"
      ],
      "execution_count": 17,
      "outputs": [
        {
          "output_type": "display_data",
          "data": {
            "text/plain": [
              "  [1] \"天后\"     \"蔡依林\"   \"Jolin\"    \"將\"       \"在\"       \"下個月\"  \n",
              "  [7] \"21\"       \"22\"       \"24\"       \"25\"       \"26\"       \"日\"      \n",
              " [13] \"重返\"     \"小\"       \"巨蛋\"     \"5\"        \"場\"       \"Ugly\"    \n",
              " [19] \"Beauty\"   \"演唱會\"   \"門票\"     \"開賣\"     \"5\"        \"分鐘\"    \n",
              " [25] \"就\"       \"售罄\"     \"稍早\"     \"有\"       \"網友\"     \"在\"      \n",
              " [31] \"PTT\"      \"爆料\"     \"售票\"     \"系統\"     \"KKTIX\"    \"故意\"    \n",
              " [37] \"洩題\"     \"把\"       \"票\"       \"留給\"     \"黃牛\"     \"網友\"    \n",
              " [43] \"貼\"       \"出名\"     \"為\"       \"J\"        \"開頭\"     \"的\"      \n",
              " [49] \"網友\"     \"的\"       \"臉書\"     \"截圖\"     \"指出\"     \"KKTIX\"   \n",
              " [55] \"售票\"     \"內部人員\" \"已經\"     \"把\"       \"特區\"     \"票未\"    \n",
              " [61] \"開賣\"     \"前\"       \"留給\"     \"黃牛\"     \"還\"       \"提供\"    \n",
              " [67] \"黃牛\"     \"考試\"     \"題目\"     \"另\"       \"有\"       \"網友\"    \n",
              " [73] \"曬出\"     \"Line\"     \"對話\"     \"截圖\"     \"時間\"     \"顯示\"    \n",
              " [79] \"為\"       \"晚間\"     \"7\"        \"點\"       \"19\"       \"分\"      \n",
              " [85] \"提供\"     \"的\"       \"問答題\"   \"Jolin\"    \"近期\"     \"與\"      \n",
              " [91] \"下列\"     \"哪位\"     \"百大\"     \"DJ\"       \"合作\"     \"歌曲\"    \n",
              " [97] \"的確\"     \"就是\"     \"清票\"     \"時\"       \"的\"       \"問題\"    \n",
              "[103] \"對於\"     \"網友\"     \"質疑\"     \"KKTIX\"    \"表示\"     \"經\"      \n",
              "[109] \"內部\"     \"初步\"     \"調查\"     \"我方\"     \"沒有\"     \"將\"      \n",
              "[115] \"題目\"     \"外洩\"     \"與\"       \"主辦單位\" \"取得\"     \"共識\"    \n",
              "[121] \"我們\"     \"將\"       \"報警\"     \"處理\"     \"此\"       \"事件\"    \n",
              "[127] \"再次\"     \"呼籲\"     \"各位\"     \"歌迷\"     \"朋友\"     \"請勿\"    \n",
              "[133] \"透過\"     \"來路不明\" \"的\"       \"管道\"     \"購票\"     \"更\"      \n",
              "[139] \"不要\"     \"將個資\"   \"提供\"     \"給\"       \"陌生人\"  "
            ],
            "text/latex": "\\begin{enumerate*}\n\\item '天后'\n\\item '蔡依林'\n\\item 'Jolin'\n\\item '將'\n\\item '在'\n\\item '下個月'\n\\item '21'\n\\item '22'\n\\item '24'\n\\item '25'\n\\item '26'\n\\item '日'\n\\item '重返'\n\\item '小'\n\\item '巨蛋'\n\\item '5'\n\\item '場'\n\\item 'Ugly'\n\\item 'Beauty'\n\\item '演唱會'\n\\item '門票'\n\\item '開賣'\n\\item '5'\n\\item '分鐘'\n\\item '就'\n\\item '售罄'\n\\item '稍早'\n\\item '有'\n\\item '網友'\n\\item '在'\n\\item 'PTT'\n\\item '爆料'\n\\item '售票'\n\\item '系統'\n\\item 'KKTIX'\n\\item '故意'\n\\item '洩題'\n\\item '把'\n\\item '票'\n\\item '留給'\n\\item '黃牛'\n\\item '網友'\n\\item '貼'\n\\item '出名'\n\\item '為'\n\\item 'J'\n\\item '開頭'\n\\item '的'\n\\item '網友'\n\\item '的'\n\\item '臉書'\n\\item '截圖'\n\\item '指出'\n\\item 'KKTIX'\n\\item '售票'\n\\item '內部人員'\n\\item '已經'\n\\item '把'\n\\item '特區'\n\\item '票未'\n\\item '開賣'\n\\item '前'\n\\item '留給'\n\\item '黃牛'\n\\item '還'\n\\item '提供'\n\\item '黃牛'\n\\item '考試'\n\\item '題目'\n\\item '另'\n\\item '有'\n\\item '網友'\n\\item '曬出'\n\\item 'Line'\n\\item '對話'\n\\item '截圖'\n\\item '時間'\n\\item '顯示'\n\\item '為'\n\\item '晚間'\n\\item '7'\n\\item '點'\n\\item '19'\n\\item '分'\n\\item '提供'\n\\item '的'\n\\item '問答題'\n\\item 'Jolin'\n\\item '近期'\n\\item '與'\n\\item '下列'\n\\item '哪位'\n\\item '百大'\n\\item 'DJ'\n\\item '合作'\n\\item '歌曲'\n\\item '的確'\n\\item '就是'\n\\item '清票'\n\\item '時'\n\\item '的'\n\\item '問題'\n\\item '對於'\n\\item '網友'\n\\item '質疑'\n\\item 'KKTIX'\n\\item '表示'\n\\item '經'\n\\item '內部'\n\\item '初步'\n\\item '調查'\n\\item '我方'\n\\item '沒有'\n\\item '將'\n\\item '題目'\n\\item '外洩'\n\\item '與'\n\\item '主辦單位'\n\\item '取得'\n\\item '共識'\n\\item '我們'\n\\item '將'\n\\item '報警'\n\\item '處理'\n\\item '此'\n\\item '事件'\n\\item '再次'\n\\item '呼籲'\n\\item '各位'\n\\item '歌迷'\n\\item '朋友'\n\\item '請勿'\n\\item '透過'\n\\item '來路不明'\n\\item '的'\n\\item '管道'\n\\item '購票'\n\\item '更'\n\\item '不要'\n\\item '將個資'\n\\item '提供'\n\\item '給'\n\\item '陌生人'\n\\end{enumerate*}\n",
            "text/markdown": "1. '天后'\n2. '蔡依林'\n3. 'Jolin'\n4. '將'\n5. '在'\n6. '下個月'\n7. '21'\n8. '22'\n9. '24'\n10. '25'\n11. '26'\n12. '日'\n13. '重返'\n14. '小'\n15. '巨蛋'\n16. '5'\n17. '場'\n18. 'Ugly'\n19. 'Beauty'\n20. '演唱會'\n21. '門票'\n22. '開賣'\n23. '5'\n24. '分鐘'\n25. '就'\n26. '售罄'\n27. '稍早'\n28. '有'\n29. '網友'\n30. '在'\n31. 'PTT'\n32. '爆料'\n33. '售票'\n34. '系統'\n35. 'KKTIX'\n36. '故意'\n37. '洩題'\n38. '把'\n39. '票'\n40. '留給'\n41. '黃牛'\n42. '網友'\n43. '貼'\n44. '出名'\n45. '為'\n46. 'J'\n47. '開頭'\n48. '的'\n49. '網友'\n50. '的'\n51. '臉書'\n52. '截圖'\n53. '指出'\n54. 'KKTIX'\n55. '售票'\n56. '內部人員'\n57. '已經'\n58. '把'\n59. '特區'\n60. '票未'\n61. '開賣'\n62. '前'\n63. '留給'\n64. '黃牛'\n65. '還'\n66. '提供'\n67. '黃牛'\n68. '考試'\n69. '題目'\n70. '另'\n71. '有'\n72. '網友'\n73. '曬出'\n74. 'Line'\n75. '對話'\n76. '截圖'\n77. '時間'\n78. '顯示'\n79. '為'\n80. '晚間'\n81. '7'\n82. '點'\n83. '19'\n84. '分'\n85. '提供'\n86. '的'\n87. '問答題'\n88. 'Jolin'\n89. '近期'\n90. '與'\n91. '下列'\n92. '哪位'\n93. '百大'\n94. 'DJ'\n95. '合作'\n96. '歌曲'\n97. '的確'\n98. '就是'\n99. '清票'\n100. '時'\n101. '的'\n102. '問題'\n103. '對於'\n104. '網友'\n105. '質疑'\n106. 'KKTIX'\n107. '表示'\n108. '經'\n109. '內部'\n110. '初步'\n111. '調查'\n112. '我方'\n113. '沒有'\n114. '將'\n115. '題目'\n116. '外洩'\n117. '與'\n118. '主辦單位'\n119. '取得'\n120. '共識'\n121. '我們'\n122. '將'\n123. '報警'\n124. '處理'\n125. '此'\n126. '事件'\n127. '再次'\n128. '呼籲'\n129. '各位'\n130. '歌迷'\n131. '朋友'\n132. '請勿'\n133. '透過'\n134. '來路不明'\n135. '的'\n136. '管道'\n137. '購票'\n138. '更'\n139. '不要'\n140. '將個資'\n141. '提供'\n142. '給'\n143. '陌生人'\n\n\n",
            "text/html": [
              "<style>\n",
              ".list-inline {list-style: none; margin:0; padding: 0}\n",
              ".list-inline>li {display: inline-block}\n",
              ".list-inline>li:not(:last-child)::after {content: \"\\00b7\"; padding: 0 .5ex}\n",
              "</style>\n",
              "<ol class=list-inline><li>'天后'</li><li>'蔡依林'</li><li>'Jolin'</li><li>'將'</li><li>'在'</li><li>'下個月'</li><li>'21'</li><li>'22'</li><li>'24'</li><li>'25'</li><li>'26'</li><li>'日'</li><li>'重返'</li><li>'小'</li><li>'巨蛋'</li><li>'5'</li><li>'場'</li><li>'Ugly'</li><li>'Beauty'</li><li>'演唱會'</li><li>'門票'</li><li>'開賣'</li><li>'5'</li><li>'分鐘'</li><li>'就'</li><li>'售罄'</li><li>'稍早'</li><li>'有'</li><li>'網友'</li><li>'在'</li><li>'PTT'</li><li>'爆料'</li><li>'售票'</li><li>'系統'</li><li>'KKTIX'</li><li>'故意'</li><li>'洩題'</li><li>'把'</li><li>'票'</li><li>'留給'</li><li>'黃牛'</li><li>'網友'</li><li>'貼'</li><li>'出名'</li><li>'為'</li><li>'J'</li><li>'開頭'</li><li>'的'</li><li>'網友'</li><li>'的'</li><li>'臉書'</li><li>'截圖'</li><li>'指出'</li><li>'KKTIX'</li><li>'售票'</li><li>'內部人員'</li><li>'已經'</li><li>'把'</li><li>'特區'</li><li>'票未'</li><li>'開賣'</li><li>'前'</li><li>'留給'</li><li>'黃牛'</li><li>'還'</li><li>'提供'</li><li>'黃牛'</li><li>'考試'</li><li>'題目'</li><li>'另'</li><li>'有'</li><li>'網友'</li><li>'曬出'</li><li>'Line'</li><li>'對話'</li><li>'截圖'</li><li>'時間'</li><li>'顯示'</li><li>'為'</li><li>'晚間'</li><li>'7'</li><li>'點'</li><li>'19'</li><li>'分'</li><li>'提供'</li><li>'的'</li><li>'問答題'</li><li>'Jolin'</li><li>'近期'</li><li>'與'</li><li>'下列'</li><li>'哪位'</li><li>'百大'</li><li>'DJ'</li><li>'合作'</li><li>'歌曲'</li><li>'的確'</li><li>'就是'</li><li>'清票'</li><li>'時'</li><li>'的'</li><li>'問題'</li><li>'對於'</li><li>'網友'</li><li>'質疑'</li><li>'KKTIX'</li><li>'表示'</li><li>'經'</li><li>'內部'</li><li>'初步'</li><li>'調查'</li><li>'我方'</li><li>'沒有'</li><li>'將'</li><li>'題目'</li><li>'外洩'</li><li>'與'</li><li>'主辦單位'</li><li>'取得'</li><li>'共識'</li><li>'我們'</li><li>'將'</li><li>'報警'</li><li>'處理'</li><li>'此'</li><li>'事件'</li><li>'再次'</li><li>'呼籲'</li><li>'各位'</li><li>'歌迷'</li><li>'朋友'</li><li>'請勿'</li><li>'透過'</li><li>'來路不明'</li><li>'的'</li><li>'管道'</li><li>'購票'</li><li>'更'</li><li>'不要'</li><li>'將個資'</li><li>'提供'</li><li>'給'</li><li>'陌生人'</li></ol>\n"
            ]
          },
          "metadata": {
            "tags": []
          }
        }
      ]
    },
    {
      "cell_type": "code",
      "metadata": {
        "colab": {
          "base_uri": "https://localhost:8080/",
          "height": 68
        },
        "id": "PxtpazYVQEIa",
        "outputId": "5d0d300d-9f6f-4158-bae0-e5e67f2e79ec"
      },
      "source": [
        "new_words <- c(\"Jolin\",\"題目\",\"票\")\n",
        "#一次只能加入一個詞，常需搭配迴圈使用\n",
        "for(i in 1:length(new_words)){\n",
        "  new_user_word(cutter, new_words[i])\n",
        "}\n",
        "content <- str_remove_all(content,\"[0-9a-zA-Z]+?\")\n",
        "cutter[content]"
      ],
      "execution_count": 18,
      "outputs": [
        {
          "output_type": "display_data",
          "data": {
            "text/plain": [
              "  [1] \"天后\"     \"蔡依林\"   \"將\"       \"在\"       \"下個月\"   \"日\"      \n",
              "  [7] \"重返\"     \"小\"       \"巨蛋\"     \"場\"       \"演唱會\"   \"門票\"    \n",
              " [13] \"開賣\"     \"分鐘\"     \"就\"       \"售罄\"     \"稍早\"     \"有\"      \n",
              " [19] \"網友\"     \"在\"       \"爆料\"     \"售票\"     \"系統\"     \"故意\"    \n",
              " [25] \"洩題\"     \"把\"       \"票\"       \"留給\"     \"黃牛\"     \"網友\"    \n",
              " [31] \"貼\"       \"出名\"     \"為\"       \"開頭\"     \"的\"       \"網友\"    \n",
              " [37] \"的\"       \"臉書\"     \"截圖\"     \"指出\"     \"售票\"     \"內部人員\"\n",
              " [43] \"已經\"     \"把\"       \"特區\"     \"票未\"     \"開賣\"     \"前\"      \n",
              " [49] \"留給\"     \"黃牛\"     \"還\"       \"提供\"     \"黃牛\"     \"考試\"    \n",
              " [55] \"題目\"     \"另\"       \"有\"       \"網友\"     \"曬出\"     \"對話\"    \n",
              " [61] \"截圖\"     \"時間\"     \"顯示\"     \"為\"       \"晚間\"     \"點分\"    \n",
              " [67] \"提供\"     \"的\"       \"問答題\"   \"近期\"     \"與\"       \"下列\"    \n",
              " [73] \"哪位\"     \"百大\"     \"合作\"     \"歌曲\"     \"的確\"     \"就是\"    \n",
              " [79] \"清票\"     \"時\"       \"的\"       \"問題\"     \"對於\"     \"網友\"    \n",
              " [85] \"質疑\"     \"表示\"     \"經\"       \"內部\"     \"初步\"     \"調查\"    \n",
              " [91] \"我方\"     \"沒有\"     \"將\"       \"題目\"     \"外洩\"     \"與\"      \n",
              " [97] \"主辦單位\" \"取得\"     \"共識\"     \"我們\"     \"將\"       \"報警\"    \n",
              "[103] \"處理\"     \"此\"       \"事件\"     \"再次\"     \"呼籲\"     \"各位\"    \n",
              "[109] \"歌迷\"     \"朋友\"     \"請勿\"     \"透過\"     \"來路不明\" \"的\"      \n",
              "[115] \"管道\"     \"購票\"     \"更\"       \"不要\"     \"將個資\"   \"提供\"    \n",
              "[121] \"給\"       \"陌生人\"  "
            ],
            "text/latex": "\\begin{enumerate*}\n\\item '天后'\n\\item '蔡依林'\n\\item '將'\n\\item '在'\n\\item '下個月'\n\\item '日'\n\\item '重返'\n\\item '小'\n\\item '巨蛋'\n\\item '場'\n\\item '演唱會'\n\\item '門票'\n\\item '開賣'\n\\item '分鐘'\n\\item '就'\n\\item '售罄'\n\\item '稍早'\n\\item '有'\n\\item '網友'\n\\item '在'\n\\item '爆料'\n\\item '售票'\n\\item '系統'\n\\item '故意'\n\\item '洩題'\n\\item '把'\n\\item '票'\n\\item '留給'\n\\item '黃牛'\n\\item '網友'\n\\item '貼'\n\\item '出名'\n\\item '為'\n\\item '開頭'\n\\item '的'\n\\item '網友'\n\\item '的'\n\\item '臉書'\n\\item '截圖'\n\\item '指出'\n\\item '售票'\n\\item '內部人員'\n\\item '已經'\n\\item '把'\n\\item '特區'\n\\item '票未'\n\\item '開賣'\n\\item '前'\n\\item '留給'\n\\item '黃牛'\n\\item '還'\n\\item '提供'\n\\item '黃牛'\n\\item '考試'\n\\item '題目'\n\\item '另'\n\\item '有'\n\\item '網友'\n\\item '曬出'\n\\item '對話'\n\\item '截圖'\n\\item '時間'\n\\item '顯示'\n\\item '為'\n\\item '晚間'\n\\item '點分'\n\\item '提供'\n\\item '的'\n\\item '問答題'\n\\item '近期'\n\\item '與'\n\\item '下列'\n\\item '哪位'\n\\item '百大'\n\\item '合作'\n\\item '歌曲'\n\\item '的確'\n\\item '就是'\n\\item '清票'\n\\item '時'\n\\item '的'\n\\item '問題'\n\\item '對於'\n\\item '網友'\n\\item '質疑'\n\\item '表示'\n\\item '經'\n\\item '內部'\n\\item '初步'\n\\item '調查'\n\\item '我方'\n\\item '沒有'\n\\item '將'\n\\item '題目'\n\\item '外洩'\n\\item '與'\n\\item '主辦單位'\n\\item '取得'\n\\item '共識'\n\\item '我們'\n\\item '將'\n\\item '報警'\n\\item '處理'\n\\item '此'\n\\item '事件'\n\\item '再次'\n\\item '呼籲'\n\\item '各位'\n\\item '歌迷'\n\\item '朋友'\n\\item '請勿'\n\\item '透過'\n\\item '來路不明'\n\\item '的'\n\\item '管道'\n\\item '購票'\n\\item '更'\n\\item '不要'\n\\item '將個資'\n\\item '提供'\n\\item '給'\n\\item '陌生人'\n\\end{enumerate*}\n",
            "text/markdown": "1. '天后'\n2. '蔡依林'\n3. '將'\n4. '在'\n5. '下個月'\n6. '日'\n7. '重返'\n8. '小'\n9. '巨蛋'\n10. '場'\n11. '演唱會'\n12. '門票'\n13. '開賣'\n14. '分鐘'\n15. '就'\n16. '售罄'\n17. '稍早'\n18. '有'\n19. '網友'\n20. '在'\n21. '爆料'\n22. '售票'\n23. '系統'\n24. '故意'\n25. '洩題'\n26. '把'\n27. '票'\n28. '留給'\n29. '黃牛'\n30. '網友'\n31. '貼'\n32. '出名'\n33. '為'\n34. '開頭'\n35. '的'\n36. '網友'\n37. '的'\n38. '臉書'\n39. '截圖'\n40. '指出'\n41. '售票'\n42. '內部人員'\n43. '已經'\n44. '把'\n45. '特區'\n46. '票未'\n47. '開賣'\n48. '前'\n49. '留給'\n50. '黃牛'\n51. '還'\n52. '提供'\n53. '黃牛'\n54. '考試'\n55. '題目'\n56. '另'\n57. '有'\n58. '網友'\n59. '曬出'\n60. '對話'\n61. '截圖'\n62. '時間'\n63. '顯示'\n64. '為'\n65. '晚間'\n66. '點分'\n67. '提供'\n68. '的'\n69. '問答題'\n70. '近期'\n71. '與'\n72. '下列'\n73. '哪位'\n74. '百大'\n75. '合作'\n76. '歌曲'\n77. '的確'\n78. '就是'\n79. '清票'\n80. '時'\n81. '的'\n82. '問題'\n83. '對於'\n84. '網友'\n85. '質疑'\n86. '表示'\n87. '經'\n88. '內部'\n89. '初步'\n90. '調查'\n91. '我方'\n92. '沒有'\n93. '將'\n94. '題目'\n95. '外洩'\n96. '與'\n97. '主辦單位'\n98. '取得'\n99. '共識'\n100. '我們'\n101. '將'\n102. '報警'\n103. '處理'\n104. '此'\n105. '事件'\n106. '再次'\n107. '呼籲'\n108. '各位'\n109. '歌迷'\n110. '朋友'\n111. '請勿'\n112. '透過'\n113. '來路不明'\n114. '的'\n115. '管道'\n116. '購票'\n117. '更'\n118. '不要'\n119. '將個資'\n120. '提供'\n121. '給'\n122. '陌生人'\n\n\n",
            "text/html": [
              "<style>\n",
              ".list-inline {list-style: none; margin:0; padding: 0}\n",
              ".list-inline>li {display: inline-block}\n",
              ".list-inline>li:not(:last-child)::after {content: \"\\00b7\"; padding: 0 .5ex}\n",
              "</style>\n",
              "<ol class=list-inline><li>'天后'</li><li>'蔡依林'</li><li>'將'</li><li>'在'</li><li>'下個月'</li><li>'日'</li><li>'重返'</li><li>'小'</li><li>'巨蛋'</li><li>'場'</li><li>'演唱會'</li><li>'門票'</li><li>'開賣'</li><li>'分鐘'</li><li>'就'</li><li>'售罄'</li><li>'稍早'</li><li>'有'</li><li>'網友'</li><li>'在'</li><li>'爆料'</li><li>'售票'</li><li>'系統'</li><li>'故意'</li><li>'洩題'</li><li>'把'</li><li>'票'</li><li>'留給'</li><li>'黃牛'</li><li>'網友'</li><li>'貼'</li><li>'出名'</li><li>'為'</li><li>'開頭'</li><li>'的'</li><li>'網友'</li><li>'的'</li><li>'臉書'</li><li>'截圖'</li><li>'指出'</li><li>'售票'</li><li>'內部人員'</li><li>'已經'</li><li>'把'</li><li>'特區'</li><li>'票未'</li><li>'開賣'</li><li>'前'</li><li>'留給'</li><li>'黃牛'</li><li>'還'</li><li>'提供'</li><li>'黃牛'</li><li>'考試'</li><li>'題目'</li><li>'另'</li><li>'有'</li><li>'網友'</li><li>'曬出'</li><li>'對話'</li><li>'截圖'</li><li>'時間'</li><li>'顯示'</li><li>'為'</li><li>'晚間'</li><li>'點分'</li><li>'提供'</li><li>'的'</li><li>'問答題'</li><li>'近期'</li><li>'與'</li><li>'下列'</li><li>'哪位'</li><li>'百大'</li><li>'合作'</li><li>'歌曲'</li><li>'的確'</li><li>'就是'</li><li>'清票'</li><li>'時'</li><li>'的'</li><li>'問題'</li><li>'對於'</li><li>'網友'</li><li>'質疑'</li><li>'表示'</li><li>'經'</li><li>'內部'</li><li>'初步'</li><li>'調查'</li><li>'我方'</li><li>'沒有'</li><li>'將'</li><li>'題目'</li><li>'外洩'</li><li>'與'</li><li>'主辦單位'</li><li>'取得'</li><li>'共識'</li><li>'我們'</li><li>'將'</li><li>'報警'</li><li>'處理'</li><li>'此'</li><li>'事件'</li><li>'再次'</li><li>'呼籲'</li><li>'各位'</li><li>'歌迷'</li><li>'朋友'</li><li>'請勿'</li><li>'透過'</li><li>'來路不明'</li><li>'的'</li><li>'管道'</li><li>'購票'</li><li>'更'</li><li>'不要'</li><li>'將個資'</li><li>'提供'</li><li>'給'</li><li>'陌生人'</li></ol>\n"
            ]
          },
          "metadata": {
            "tags": []
          }
        }
      ]
    },
    {
      "cell_type": "code",
      "metadata": {
        "colab": {
          "base_uri": "https://localhost:8080/",
          "height": 68
        },
        "id": "nf5DpqZxSc8g",
        "outputId": "9cfa5c25-6973-4320-a805-801741ce2fcd"
      },
      "source": [
        "new_words <- c(\"Jolin\",\"題目\",\"票\")\n",
        "writeLines(new_words,\"new_words.txt\")\n",
        "stop_words <- c(\"在\",\"之\",\"更\",\"個\",\"未\",\"而\",\"也\",\"與\",\"的\",\"將\",\"把\",\"為\")\n",
        "writeLines(stop_words,\"stop_words.txt\")\n",
        "cutter <- worker(user = \"new_words.txt\",stop_word = \"stop_words.txt\",\n",
        "bylines = FALSE)\n",
        "seg_words <- cutter[content]\n",
        "seg_words"
      ],
      "execution_count": 25,
      "outputs": [
        {
          "output_type": "display_data",
          "data": {
            "text/plain": [
              "  [1] \"天后\"     \"蔡依林\"   \"下個月\"   \"日\"       \"重返\"     \"小\"      \n",
              "  [7] \"巨蛋\"     \"場\"       \"演唱會\"   \"門票\"     \"開賣\"     \"分鐘\"    \n",
              " [13] \"就\"       \"售罄\"     \"稍早\"     \"有\"       \"網友\"     \"爆料\"    \n",
              " [19] \"售票\"     \"系統\"     \"故意\"     \"洩題\"     \"票\"       \"留給\"    \n",
              " [25] \"黃牛\"     \"網友\"     \"貼\"       \"出名\"     \"開頭\"     \"網友\"    \n",
              " [31] \"臉書\"     \"截圖\"     \"指出\"     \"售票\"     \"內部人員\" \"已經\"    \n",
              " [37] \"特區\"     \"票\"       \"未開\"     \"賣\"       \"前\"       \"留給\"    \n",
              " [43] \"黃牛\"     \"還\"       \"提供\"     \"黃牛\"     \"考試\"     \"題目\"    \n",
              " [49] \"另\"       \"有\"       \"網友\"     \"曬出\"     \"對話\"     \"截圖\"    \n",
              " [55] \"時間\"     \"顯示\"     \"晚間\"     \"點分\"     \"提供\"     \"問答題\"  \n",
              " [61] \"近期\"     \"下列\"     \"哪位\"     \"百大\"     \"合作\"     \"歌曲\"    \n",
              " [67] \"的確\"     \"就是\"     \"清\"       \"票\"       \"時\"       \"問題\"    \n",
              " [73] \"對於\"     \"網友\"     \"質疑\"     \"表示\"     \"經\"       \"內部\"    \n",
              " [79] \"初步\"     \"調查\"     \"我方\"     \"沒有\"     \"題目\"     \"外洩\"    \n",
              " [85] \"主辦單位\" \"取得\"     \"共識\"     \"我們\"     \"報警\"     \"處理\"    \n",
              " [91] \"此\"       \"事件\"     \"再次\"     \"呼籲\"     \"各位\"     \"歌迷\"    \n",
              " [97] \"朋友\"     \"請勿\"     \"透過\"     \"來路不明\" \"管道\"     \"購票\"    \n",
              "[103] \"不要\"     \"將個資\"   \"提供\"     \"給\"       \"陌生人\"  "
            ],
            "text/latex": "\\begin{enumerate*}\n\\item '天后'\n\\item '蔡依林'\n\\item '下個月'\n\\item '日'\n\\item '重返'\n\\item '小'\n\\item '巨蛋'\n\\item '場'\n\\item '演唱會'\n\\item '門票'\n\\item '開賣'\n\\item '分鐘'\n\\item '就'\n\\item '售罄'\n\\item '稍早'\n\\item '有'\n\\item '網友'\n\\item '爆料'\n\\item '售票'\n\\item '系統'\n\\item '故意'\n\\item '洩題'\n\\item '票'\n\\item '留給'\n\\item '黃牛'\n\\item '網友'\n\\item '貼'\n\\item '出名'\n\\item '開頭'\n\\item '網友'\n\\item '臉書'\n\\item '截圖'\n\\item '指出'\n\\item '售票'\n\\item '內部人員'\n\\item '已經'\n\\item '特區'\n\\item '票'\n\\item '未開'\n\\item '賣'\n\\item '前'\n\\item '留給'\n\\item '黃牛'\n\\item '還'\n\\item '提供'\n\\item '黃牛'\n\\item '考試'\n\\item '題目'\n\\item '另'\n\\item '有'\n\\item '網友'\n\\item '曬出'\n\\item '對話'\n\\item '截圖'\n\\item '時間'\n\\item '顯示'\n\\item '晚間'\n\\item '點分'\n\\item '提供'\n\\item '問答題'\n\\item '近期'\n\\item '下列'\n\\item '哪位'\n\\item '百大'\n\\item '合作'\n\\item '歌曲'\n\\item '的確'\n\\item '就是'\n\\item '清'\n\\item '票'\n\\item '時'\n\\item '問題'\n\\item '對於'\n\\item '網友'\n\\item '質疑'\n\\item '表示'\n\\item '經'\n\\item '內部'\n\\item '初步'\n\\item '調查'\n\\item '我方'\n\\item '沒有'\n\\item '題目'\n\\item '外洩'\n\\item '主辦單位'\n\\item '取得'\n\\item '共識'\n\\item '我們'\n\\item '報警'\n\\item '處理'\n\\item '此'\n\\item '事件'\n\\item '再次'\n\\item '呼籲'\n\\item '各位'\n\\item '歌迷'\n\\item '朋友'\n\\item '請勿'\n\\item '透過'\n\\item '來路不明'\n\\item '管道'\n\\item '購票'\n\\item '不要'\n\\item '將個資'\n\\item '提供'\n\\item '給'\n\\item '陌生人'\n\\end{enumerate*}\n",
            "text/markdown": "1. '天后'\n2. '蔡依林'\n3. '下個月'\n4. '日'\n5. '重返'\n6. '小'\n7. '巨蛋'\n8. '場'\n9. '演唱會'\n10. '門票'\n11. '開賣'\n12. '分鐘'\n13. '就'\n14. '售罄'\n15. '稍早'\n16. '有'\n17. '網友'\n18. '爆料'\n19. '售票'\n20. '系統'\n21. '故意'\n22. '洩題'\n23. '票'\n24. '留給'\n25. '黃牛'\n26. '網友'\n27. '貼'\n28. '出名'\n29. '開頭'\n30. '網友'\n31. '臉書'\n32. '截圖'\n33. '指出'\n34. '售票'\n35. '內部人員'\n36. '已經'\n37. '特區'\n38. '票'\n39. '未開'\n40. '賣'\n41. '前'\n42. '留給'\n43. '黃牛'\n44. '還'\n45. '提供'\n46. '黃牛'\n47. '考試'\n48. '題目'\n49. '另'\n50. '有'\n51. '網友'\n52. '曬出'\n53. '對話'\n54. '截圖'\n55. '時間'\n56. '顯示'\n57. '晚間'\n58. '點分'\n59. '提供'\n60. '問答題'\n61. '近期'\n62. '下列'\n63. '哪位'\n64. '百大'\n65. '合作'\n66. '歌曲'\n67. '的確'\n68. '就是'\n69. '清'\n70. '票'\n71. '時'\n72. '問題'\n73. '對於'\n74. '網友'\n75. '質疑'\n76. '表示'\n77. '經'\n78. '內部'\n79. '初步'\n80. '調查'\n81. '我方'\n82. '沒有'\n83. '題目'\n84. '外洩'\n85. '主辦單位'\n86. '取得'\n87. '共識'\n88. '我們'\n89. '報警'\n90. '處理'\n91. '此'\n92. '事件'\n93. '再次'\n94. '呼籲'\n95. '各位'\n96. '歌迷'\n97. '朋友'\n98. '請勿'\n99. '透過'\n100. '來路不明'\n101. '管道'\n102. '購票'\n103. '不要'\n104. '將個資'\n105. '提供'\n106. '給'\n107. '陌生人'\n\n\n",
            "text/html": [
              "<style>\n",
              ".list-inline {list-style: none; margin:0; padding: 0}\n",
              ".list-inline>li {display: inline-block}\n",
              ".list-inline>li:not(:last-child)::after {content: \"\\00b7\"; padding: 0 .5ex}\n",
              "</style>\n",
              "<ol class=list-inline><li>'天后'</li><li>'蔡依林'</li><li>'下個月'</li><li>'日'</li><li>'重返'</li><li>'小'</li><li>'巨蛋'</li><li>'場'</li><li>'演唱會'</li><li>'門票'</li><li>'開賣'</li><li>'分鐘'</li><li>'就'</li><li>'售罄'</li><li>'稍早'</li><li>'有'</li><li>'網友'</li><li>'爆料'</li><li>'售票'</li><li>'系統'</li><li>'故意'</li><li>'洩題'</li><li>'票'</li><li>'留給'</li><li>'黃牛'</li><li>'網友'</li><li>'貼'</li><li>'出名'</li><li>'開頭'</li><li>'網友'</li><li>'臉書'</li><li>'截圖'</li><li>'指出'</li><li>'售票'</li><li>'內部人員'</li><li>'已經'</li><li>'特區'</li><li>'票'</li><li>'未開'</li><li>'賣'</li><li>'前'</li><li>'留給'</li><li>'黃牛'</li><li>'還'</li><li>'提供'</li><li>'黃牛'</li><li>'考試'</li><li>'題目'</li><li>'另'</li><li>'有'</li><li>'網友'</li><li>'曬出'</li><li>'對話'</li><li>'截圖'</li><li>'時間'</li><li>'顯示'</li><li>'晚間'</li><li>'點分'</li><li>'提供'</li><li>'問答題'</li><li>'近期'</li><li>'下列'</li><li>'哪位'</li><li>'百大'</li><li>'合作'</li><li>'歌曲'</li><li>'的確'</li><li>'就是'</li><li>'清'</li><li>'票'</li><li>'時'</li><li>'問題'</li><li>'對於'</li><li>'網友'</li><li>'質疑'</li><li>'表示'</li><li>'經'</li><li>'內部'</li><li>'初步'</li><li>'調查'</li><li>'我方'</li><li>'沒有'</li><li>'題目'</li><li>'外洩'</li><li>'主辦單位'</li><li>'取得'</li><li>'共識'</li><li>'我們'</li><li>'報警'</li><li>'處理'</li><li>'此'</li><li>'事件'</li><li>'再次'</li><li>'呼籲'</li><li>'各位'</li><li>'歌迷'</li><li>'朋友'</li><li>'請勿'</li><li>'透過'</li><li>'來路不明'</li><li>'管道'</li><li>'購票'</li><li>'不要'</li><li>'將個資'</li><li>'提供'</li><li>'給'</li><li>'陌生人'</li></ol>\n"
            ]
          },
          "metadata": {
            "tags": []
          }
        }
      ]
    },
    {
      "cell_type": "code",
      "metadata": {
        "colab": {
          "base_uri": "https://localhost:8080/",
          "height": 283
        },
        "id": "LAvVFBauTajD",
        "outputId": "7211f19e-5be3-4e13-f9b3-f160169deda7"
      },
      "source": [
        "#計算詞彙頻率\n",
        "txt_freq <- freq(seg_words)\n",
        "#由大到小排列\n",
        "txt_freq <- arrange(txt_freq,desc(freq))\n",
        "#檢查前5名\n",
        "head(txt_freq)"
      ],
      "execution_count": 26,
      "outputs": [
        {
          "output_type": "display_data",
          "data": {
            "text/plain": [
              "  char freq\n",
              "1 網友 5   \n",
              "2 票   3   \n",
              "3 黃牛 3   \n",
              "4 提供 3   \n",
              "5 截圖 2   \n",
              "6 售票 2   "
            ],
            "text/latex": "A data.frame: 6 × 2\n\\begin{tabular}{r|ll}\n  & char & freq\\\\\n  & <chr> & <dbl>\\\\\n\\hline\n\t1 & 網友 & 5\\\\\n\t2 & 票   & 3\\\\\n\t3 & 黃牛 & 3\\\\\n\t4 & 提供 & 3\\\\\n\t5 & 截圖 & 2\\\\\n\t6 & 售票 & 2\\\\\n\\end{tabular}\n",
            "text/markdown": "\nA data.frame: 6 × 2\n\n| <!--/--> | char &lt;chr&gt; | freq &lt;dbl&gt; |\n|---|---|---|\n| 1 | 網友 | 5 |\n| 2 | 票   | 3 |\n| 3 | 黃牛 | 3 |\n| 4 | 提供 | 3 |\n| 5 | 截圖 | 2 |\n| 6 | 售票 | 2 |\n\n",
            "text/html": [
              "<table class=\"dataframe\">\n",
              "<caption>A data.frame: 6 × 2</caption>\n",
              "<thead>\n",
              "\t<tr><th></th><th scope=col>char</th><th scope=col>freq</th></tr>\n",
              "\t<tr><th></th><th scope=col>&lt;chr&gt;</th><th scope=col>&lt;dbl&gt;</th></tr>\n",
              "</thead>\n",
              "<tbody>\n",
              "\t<tr><th scope=row>1</th><td>網友</td><td>5</td></tr>\n",
              "\t<tr><th scope=row>2</th><td>票  </td><td>3</td></tr>\n",
              "\t<tr><th scope=row>3</th><td>黃牛</td><td>3</td></tr>\n",
              "\t<tr><th scope=row>4</th><td>提供</td><td>3</td></tr>\n",
              "\t<tr><th scope=row>5</th><td>截圖</td><td>2</td></tr>\n",
              "\t<tr><th scope=row>6</th><td>售票</td><td>2</td></tr>\n",
              "</tbody>\n",
              "</table>\n"
            ]
          },
          "metadata": {
            "tags": []
          }
        }
      ]
    },
    {
      "cell_type": "code",
      "metadata": {
        "colab": {
          "base_uri": "https://localhost:8080/",
          "height": 1000
        },
        "id": "t-ErSLAWT9ZL",
        "outputId": "fe2a216c-183b-4889-d9dd-760597700b9f"
      },
      "source": [
        "par(family=(\"Microsoft YaHei\")) #wordcloud需要定義字體，不然會無法顯示中文\n",
        "#文字雲(pkg:wordcloud)\n",
        "wordcloud(txt_freq$char,txt_freq$freq,min.freq = 2,random.order = F,\n",
        "ordered.colors = F,colors = rainbow(nrow(txt_freq)))"
      ],
      "execution_count": 31,
      "outputs": [
        {
          "output_type": "stream",
          "text": [
            "Warning message in strwidth(words[i], cex = size[i], ...):\n",
            "“font family 'Microsoft YaHei' not found, will use 'wqy-microhei' instead”\n",
            "Warning message in strheight(words[i], cex = size[i], ...):\n",
            "“font family 'Microsoft YaHei' not found, will use 'sans' instead”\n",
            "Warning message in text.default(x1, y1, words[i], cex = size[i], offset = 0, srt = rotWord * :\n",
            "“font family 'Microsoft YaHei' not found, will use 'wqy-microhei' instead”\n",
            "Warning message in text.default(x1, y1, words[i], cex = size[i], offset = 0, srt = rotWord * :\n",
            "“font family 'Microsoft YaHei' not found, will use 'wqy-microhei' instead”\n",
            "Warning message in text.default(x1, y1, words[i], cex = size[i], offset = 0, srt = rotWord * :\n",
            "“font family 'Microsoft YaHei' not found, will use 'wqy-microhei' instead”\n",
            "Warning message in text.default(x1, y1, words[i], cex = size[i], offset = 0, srt = rotWord * :\n",
            "“font family 'Microsoft YaHei' not found, will use 'wqy-microhei' instead”\n",
            "Warning message in strwidth(words[i], cex = size[i], ...):\n",
            "“font family 'Microsoft YaHei' not found, will use 'wqy-microhei' instead”\n",
            "Warning message in strheight(words[i], cex = size[i], ...):\n",
            "“font family 'Microsoft YaHei' not found, will use 'sans' instead”\n",
            "Warning message in text.default(x1, y1, words[i], cex = size[i], offset = 0, srt = rotWord * :\n",
            "“font family 'Microsoft YaHei' not found, will use 'wqy-microhei' instead”\n",
            "Warning message in text.default(x1, y1, words[i], cex = size[i], offset = 0, srt = rotWord * :\n",
            "“font family 'Microsoft YaHei' not found, will use 'wqy-microhei' instead”\n",
            "Warning message in text.default(x1, y1, words[i], cex = size[i], offset = 0, srt = rotWord * :\n",
            "“font family 'Microsoft YaHei' not found, will use 'wqy-microhei' instead”\n",
            "Warning message in strwidth(words[i], cex = size[i], ...):\n",
            "“font family 'Microsoft YaHei' not found, will use 'wqy-microhei' instead”\n",
            "Warning message in text.default(x1, y1, words[i], cex = size[i], offset = 0, srt = rotWord * :\n",
            "“font family 'Microsoft YaHei' not found, will use 'wqy-microhei' instead”\n",
            "Warning message in text.default(x1, y1, words[i], cex = size[i], offset = 0, srt = rotWord * :\n",
            "“font family 'Microsoft YaHei' not found, will use 'wqy-microhei' instead”\n",
            "Warning message in text.default(x1, y1, words[i], cex = size[i], offset = 0, srt = rotWord * :\n",
            "“font family 'Microsoft YaHei' not found, will use 'wqy-microhei' instead”\n",
            "Warning message in text.default(x1, y1, words[i], cex = size[i], offset = 0, srt = rotWord * :\n",
            "“font family 'Microsoft YaHei' not found, will use 'wqy-microhei' instead”\n",
            "Warning message in strwidth(words[i], cex = size[i], ...):\n",
            "“font family 'Microsoft YaHei' not found, will use 'wqy-microhei' instead”\n",
            "Warning message in text.default(x1, y1, words[i], cex = size[i], offset = 0, srt = rotWord * :\n",
            "“font family 'Microsoft YaHei' not found, will use 'wqy-microhei' instead”\n",
            "Warning message in text.default(x1, y1, words[i], cex = size[i], offset = 0, srt = rotWord * :\n",
            "“font family 'Microsoft YaHei' not found, will use 'wqy-microhei' instead”\n",
            "Warning message in text.default(x1, y1, words[i], cex = size[i], offset = 0, srt = rotWord * :\n",
            "“font family 'Microsoft YaHei' not found, will use 'wqy-microhei' instead”\n",
            "Warning message in text.default(x1, y1, words[i], cex = size[i], offset = 0, srt = rotWord * :\n",
            "“font family 'Microsoft YaHei' not found, will use 'wqy-microhei' instead”\n",
            "Warning message in strwidth(words[i], cex = size[i], ...):\n",
            "“font family 'Microsoft YaHei' not found, will use 'wqy-microhei' instead”\n",
            "Warning message in strheight(words[i], cex = size[i], ...):\n",
            "“font family 'Microsoft YaHei' not found, will use 'sans' instead”\n",
            "Warning message in text.default(x1, y1, words[i], cex = size[i], offset = 0, srt = rotWord * :\n",
            "“font family 'Microsoft YaHei' not found, will use 'wqy-microhei' instead”\n",
            "Warning message in text.default(x1, y1, words[i], cex = size[i], offset = 0, srt = rotWord * :\n",
            "“font family 'Microsoft YaHei' not found, will use 'wqy-microhei' instead”\n",
            "Warning message in text.default(x1, y1, words[i], cex = size[i], offset = 0, srt = rotWord * :\n",
            "“font family 'Microsoft YaHei' not found, will use 'wqy-microhei' instead”\n",
            "Warning message in text.default(x1, y1, words[i], cex = size[i], offset = 0, srt = rotWord * :\n",
            "“font family 'Microsoft YaHei' not found, will use 'wqy-microhei' instead”\n",
            "Warning message in strwidth(words[i], cex = size[i], ...):\n",
            "“font family 'Microsoft YaHei' not found, will use 'wqy-microhei' instead”\n",
            "Warning message in text.default(x1, y1, words[i], cex = size[i], offset = 0, srt = rotWord * :\n",
            "“font family 'Microsoft YaHei' not found, will use 'wqy-microhei' instead”\n",
            "Warning message in text.default(x1, y1, words[i], cex = size[i], offset = 0, srt = rotWord * :\n",
            "“font family 'Microsoft YaHei' not found, will use 'wqy-microhei' instead”\n",
            "Warning message in text.default(x1, y1, words[i], cex = size[i], offset = 0, srt = rotWord * :\n",
            "“font family 'Microsoft YaHei' not found, will use 'wqy-microhei' instead”\n",
            "Warning message in text.default(x1, y1, words[i], cex = size[i], offset = 0, srt = rotWord * :\n",
            "“font family 'Microsoft YaHei' not found, will use 'wqy-microhei' instead”\n",
            "Warning message in strwidth(words[i], cex = size[i], ...):\n",
            "“font family 'Microsoft YaHei' not found, will use 'wqy-microhei' instead”\n",
            "Warning message in text.default(x1, y1, words[i], cex = size[i], offset = 0, srt = rotWord * :\n",
            "“font family 'Microsoft YaHei' not found, will use 'wqy-microhei' instead”\n",
            "Warning message in text.default(x1, y1, words[i], cex = size[i], offset = 0, srt = rotWord * :\n",
            "“font family 'Microsoft YaHei' not found, will use 'wqy-microhei' instead”\n",
            "Warning message in text.default(x1, y1, words[i], cex = size[i], offset = 0, srt = rotWord * :\n",
            "“font family 'Microsoft YaHei' not found, will use 'wqy-microhei' instead”\n",
            "Warning message in text.default(x1, y1, words[i], cex = size[i], offset = 0, srt = rotWord * :\n",
            "“font family 'Microsoft YaHei' not found, will use 'wqy-microhei' instead”\n",
            "Warning message in strwidth(words[i], cex = size[i], ...):\n",
            "“font family 'Microsoft YaHei' not found, will use 'wqy-microhei' instead”\n",
            "Warning message in text.default(x1, y1, words[i], cex = size[i], offset = 0, srt = rotWord * :\n",
            "“font family 'Microsoft YaHei' not found, will use 'wqy-microhei' instead”\n",
            "Warning message in text.default(x1, y1, words[i], cex = size[i], offset = 0, srt = rotWord * :\n",
            "“font family 'Microsoft YaHei' not found, will use 'wqy-microhei' instead”\n",
            "Warning message in text.default(x1, y1, words[i], cex = size[i], offset = 0, srt = rotWord * :\n",
            "“font family 'Microsoft YaHei' not found, will use 'wqy-microhei' instead”\n",
            "Warning message in text.default(x1, y1, words[i], cex = size[i], offset = 0, srt = rotWord * :\n",
            "“font family 'Microsoft YaHei' not found, will use 'wqy-microhei' instead”\n",
            "Warning message in strwidth(words[i], cex = size[i], ...):\n",
            "“font family 'Microsoft YaHei' not found, will use 'wqy-microhei' instead”\n",
            "Warning message in text.default(x1, y1, words[i], cex = size[i], offset = 0, srt = rotWord * :\n",
            "“font family 'Microsoft YaHei' not found, will use 'wqy-microhei' instead”\n",
            "Warning message in text.default(x1, y1, words[i], cex = size[i], offset = 0, srt = rotWord * :\n",
            "“font family 'Microsoft YaHei' not found, will use 'wqy-microhei' instead”\n",
            "Warning message in text.default(x1, y1, words[i], cex = size[i], offset = 0, srt = rotWord * :\n",
            "“font family 'Microsoft YaHei' not found, will use 'wqy-microhei' instead”\n"
          ],
          "name": "stderr"
        },
        {
          "output_type": "display_data",
          "data": {
            "image/png": "[encoded data removed]",
            "text/plain": [
              "plot without title"
            ]
          },
          "metadata": {
            "tags": [],
            "image/png": {
              "width": 420,
              "height": 420
            }
          }
        }
      ]
    },
    {
      "cell_type": "code",
      "metadata": {
        "colab": {
          "base_uri": "https://localhost:8080/"
        },
        "id": "RQIbNzWsXnOa",
        "outputId": "781be6c4-bcf7-44d4-c79b-6d11eeeb8a8b"
      },
      "source": [
        "install.packages(\"showtext\")"
      ],
      "execution_count": 28,
      "outputs": [
        {
          "output_type": "stream",
          "text": [
            "Installing package into ‘/usr/local/lib/R/site-library’\n",
            "(as ‘lib’ is unspecified)\n",
            "\n",
            "also installing the dependencies ‘sysfonts’, ‘showtextdb’\n",
            "\n",
            "\n"
          ],
          "name": "stderr"
        }
      ]
    },
    {
      "cell_type": "code",
      "metadata": {
        "id": "XQInRpNYYDwj",
        "colab": {
          "base_uri": "https://localhost:8080/"
        },
        "outputId": "f9d724fc-650f-42ff-952f-73d1172f3c0b"
      },
      "source": [
        "library(\"showtext\")"
      ],
      "execution_count": 29,
      "outputs": [
        {
          "output_type": "stream",
          "text": [
            "Loading required package: sysfonts\n",
            "\n",
            "Loading required package: showtextdb\n",
            "\n"
          ],
          "name": "stderr"
        }
      ]
    },
    {
      "cell_type": "code",
      "metadata": {
        "id": "-urJ93GoXblL",
        "colab": {
          "base_uri": "https://localhost:8080/"
        },
        "outputId": "b7e7a4eb-ece4-481e-e0d1-f9bd9df0bc95"
      },
      "source": [
        "showtext.auto(enable = TRUE)"
      ],
      "execution_count": 30,
      "outputs": [
        {
          "output_type": "stream",
          "text": [
            "'showtext.auto()' is now renamed to 'showtext_auto()'\n",
            "The old version still works, but consider using the new function in future code\n",
            "\n"
          ],
          "name": "stderr"
        }
      ]
    },
    {
      "cell_type": "code",
      "metadata": {
        "id": "EnzL4fcQO0zR"
      },
      "source": [
        ""
      ],
      "execution_count": null,
      "outputs": []
    }
  ]
}