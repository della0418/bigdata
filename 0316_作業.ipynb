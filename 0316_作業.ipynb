{
  "nbformat": 4,
  "nbformat_minor": 0,
  "metadata": {
    "colab": {
      "name": "0316-作業.ipynb",
      "provenance": [],
      "collapsed_sections": [],
      "include_colab_link": true
    },
    "kernelspec": {
      "name": "ir",
      "display_name": "R"
    }
  },
  "cells": [
    {
      "cell_type": "markdown",
      "metadata": {
        "id": "view-in-github",
        "colab_type": "text"
      },
      "source": [
        "<a href=\"https://colab.research.google.com/github/della0418/bigdata/blob/main/0316_%E4%BD%9C%E6%A5%AD.ipynb\" target=\"_parent\"><img src=\"https://colab.research.google.com/assets/colab-badge.svg\" alt=\"Open In Colab\"/></a>"
      ]
    },
    {
      "cell_type": "code",
      "metadata": {
        "colab": {
          "base_uri": "https://localhost:8080/",
          "height": 34
        },
        "id": "E4-G5IgybcpG",
        "outputId": "0eb4c245-4fc5-4957-bd65-f1c0f672db75"
      },
      "source": [
        "#列出檔案\n",
        "system(\"ls\",TRUE)"
      ],
      "execution_count": 2,
      "outputs": [
        {
          "output_type": "display_data",
          "data": {
            "text/plain": [
              "[1] \"A53000000A-110026-003.csv\" \"sample_data\"              "
            ],
            "text/latex": "\\begin{enumerate*}\n\\item 'A53000000A-110026-003.csv'\n\\item 'sample\\_data'\n\\end{enumerate*}\n",
            "text/markdown": "1. 'A53000000A-110026-003.csv'\n2. 'sample_data'\n\n\n",
            "text/html": [
              "<style>\n",
              ".list-inline {list-style: none; margin:0; padding: 0}\n",
              ".list-inline>li {display: inline-block}\n",
              ".list-inline>li:not(:last-child)::after {content: \"\\00b7\"; padding: 0 .5ex}\n",
              "</style>\n",
              "<ol class=list-inline><li>'A53000000A-110026-003.csv'</li><li>'sample_data'</li></ol>\n"
            ]
          },
          "metadata": {
            "tags": []
          }
        }
      ]
    },
    {
      "cell_type": "code",
      "metadata": {
        "id": "T8qStFBQbkRw"
      },
      "source": [
        "library(readr)"
      ],
      "execution_count": 3,
      "outputs": []
    },
    {
      "cell_type": "code",
      "metadata": {
        "id": "YjbnoVy4brrZ"
      },
      "source": [
        "#讀取檔案\n",
        "dataset <- read.csv(\"A53000000A-110026-003.csv\")"
      ],
      "execution_count": 5,
      "outputs": []
    },
    {
      "cell_type": "code",
      "metadata": {
        "colab": {
          "base_uri": "https://localhost:8080/",
          "height": 1000
        },
        "id": "8m_kMAxab1Wg",
        "outputId": "8fbc32fd-b14d-411e-c11b-c81dcee690c0"
      },
      "source": [
        "dataset"
      ],
      "execution_count": 6,
      "outputs": [
        {
          "output_type": "display_data",
          "data": {
            "text/plain": [
              "   Seq DateListed 年度 月份 合計 \n",
              "1   1  2021/03/03 109   9    9322\n",
              "2   2  2021/03/03 109   8   11308\n",
              "3   3  2021/03/03 109   7   12053\n",
              "4   4  2021/03/03 109   6   10041\n",
              "5   5  2021/03/03 109   5    9840\n",
              "6   6  2021/03/03 109   4    8391\n",
              "7   7  2021/03/03 109   3   19888\n",
              "8   8  2021/03/03 109   2   26820\n",
              "9   9  2021/03/03 109   1   35437\n",
              "10 10  2021/03/03 108  12   18967\n",
              "11 11  2021/03/03 108  11   33270\n",
              "12 12  2021/03/03 108  10   44463\n",
              "13 13  2021/03/03 108   9   49851\n",
              "14 14  2021/03/03 108   8   26029\n",
              "15 15  2021/03/03 108   7   22659\n",
              "16 16  2021/03/03 108   6   18403\n",
              "17 17  2021/03/03 108   5   33070\n",
              "18 18  2021/03/03 108   4   33313\n",
              "19 19  2021/03/03 108   3   42547\n",
              "20 20  2021/03/03 108   2   55740\n",
              "21 21  2021/03/03 108   1   26819\n",
              "22 22  2021/03/03 107  12   24392\n",
              "23 23  2021/03/03 107  11   24283\n",
              "24 24  2021/03/03 107  10   39274\n",
              "25 25  2021/03/03 107   9   38189\n",
              "26 26  2021/03/03 107   8   33821\n",
              "27 27  2021/03/03 107   7   34740\n",
              "28 28  2021/03/03 107   6   25276\n",
              "29 29  2021/03/03 107   5   29226\n",
              "30 30  2021/03/03 107   4   49114\n",
              "31 31  2021/03/03 107   3   36459\n",
              "32 32  2021/03/03 107   2   36954\n",
              "33 33  2021/03/03 107   1   18845"
            ],
            "text/latex": "A data.frame: 33 × 5\n\\begin{tabular}{lllll}\n Seq & DateListed & 年度 & 月份 & 合計\\\\\n <int> & <chr> & <int> & <int> & <int>\\\\\n\\hline\n\t  1 & 2021/03/03 & 109 &  9 &  9322\\\\\n\t  2 & 2021/03/03 & 109 &  8 & 11308\\\\\n\t  3 & 2021/03/03 & 109 &  7 & 12053\\\\\n\t  4 & 2021/03/03 & 109 &  6 & 10041\\\\\n\t  5 & 2021/03/03 & 109 &  5 &  9840\\\\\n\t  6 & 2021/03/03 & 109 &  4 &  8391\\\\\n\t  7 & 2021/03/03 & 109 &  3 & 19888\\\\\n\t  8 & 2021/03/03 & 109 &  2 & 26820\\\\\n\t  9 & 2021/03/03 & 109 &  1 & 35437\\\\\n\t 10 & 2021/03/03 & 108 & 12 & 18967\\\\\n\t 11 & 2021/03/03 & 108 & 11 & 33270\\\\\n\t 12 & 2021/03/03 & 108 & 10 & 44463\\\\\n\t 13 & 2021/03/03 & 108 &  9 & 49851\\\\\n\t 14 & 2021/03/03 & 108 &  8 & 26029\\\\\n\t 15 & 2021/03/03 & 108 &  7 & 22659\\\\\n\t 16 & 2021/03/03 & 108 &  6 & 18403\\\\\n\t 17 & 2021/03/03 & 108 &  5 & 33070\\\\\n\t 18 & 2021/03/03 & 108 &  4 & 33313\\\\\n\t 19 & 2021/03/03 & 108 &  3 & 42547\\\\\n\t 20 & 2021/03/03 & 108 &  2 & 55740\\\\\n\t 21 & 2021/03/03 & 108 &  1 & 26819\\\\\n\t 22 & 2021/03/03 & 107 & 12 & 24392\\\\\n\t 23 & 2021/03/03 & 107 & 11 & 24283\\\\\n\t 24 & 2021/03/03 & 107 & 10 & 39274\\\\\n\t 25 & 2021/03/03 & 107 &  9 & 38189\\\\\n\t 26 & 2021/03/03 & 107 &  8 & 33821\\\\\n\t 27 & 2021/03/03 & 107 &  7 & 34740\\\\\n\t 28 & 2021/03/03 & 107 &  6 & 25276\\\\\n\t 29 & 2021/03/03 & 107 &  5 & 29226\\\\\n\t 30 & 2021/03/03 & 107 &  4 & 49114\\\\\n\t 31 & 2021/03/03 & 107 &  3 & 36459\\\\\n\t 32 & 2021/03/03 & 107 &  2 & 36954\\\\\n\t 33 & 2021/03/03 & 107 &  1 & 18845\\\\\n\\end{tabular}\n",
            "text/markdown": "\nA data.frame: 33 × 5\n\n| Seq &lt;int&gt; | DateListed &lt;chr&gt; | 年度 &lt;int&gt; | 月份 &lt;int&gt; | 合計 &lt;int&gt; |\n|---|---|---|---|---|\n|  1 | 2021/03/03 | 109 |  9 |  9322 |\n|  2 | 2021/03/03 | 109 |  8 | 11308 |\n|  3 | 2021/03/03 | 109 |  7 | 12053 |\n|  4 | 2021/03/03 | 109 |  6 | 10041 |\n|  5 | 2021/03/03 | 109 |  5 |  9840 |\n|  6 | 2021/03/03 | 109 |  4 |  8391 |\n|  7 | 2021/03/03 | 109 |  3 | 19888 |\n|  8 | 2021/03/03 | 109 |  2 | 26820 |\n|  9 | 2021/03/03 | 109 |  1 | 35437 |\n| 10 | 2021/03/03 | 108 | 12 | 18967 |\n| 11 | 2021/03/03 | 108 | 11 | 33270 |\n| 12 | 2021/03/03 | 108 | 10 | 44463 |\n| 13 | 2021/03/03 | 108 |  9 | 49851 |\n| 14 | 2021/03/03 | 108 |  8 | 26029 |\n| 15 | 2021/03/03 | 108 |  7 | 22659 |\n| 16 | 2021/03/03 | 108 |  6 | 18403 |\n| 17 | 2021/03/03 | 108 |  5 | 33070 |\n| 18 | 2021/03/03 | 108 |  4 | 33313 |\n| 19 | 2021/03/03 | 108 |  3 | 42547 |\n| 20 | 2021/03/03 | 108 |  2 | 55740 |\n| 21 | 2021/03/03 | 108 |  1 | 26819 |\n| 22 | 2021/03/03 | 107 | 12 | 24392 |\n| 23 | 2021/03/03 | 107 | 11 | 24283 |\n| 24 | 2021/03/03 | 107 | 10 | 39274 |\n| 25 | 2021/03/03 | 107 |  9 | 38189 |\n| 26 | 2021/03/03 | 107 |  8 | 33821 |\n| 27 | 2021/03/03 | 107 |  7 | 34740 |\n| 28 | 2021/03/03 | 107 |  6 | 25276 |\n| 29 | 2021/03/03 | 107 |  5 | 29226 |\n| 30 | 2021/03/03 | 107 |  4 | 49114 |\n| 31 | 2021/03/03 | 107 |  3 | 36459 |\n| 32 | 2021/03/03 | 107 |  2 | 36954 |\n| 33 | 2021/03/03 | 107 |  1 | 18845 |\n\n",
            "text/html": [
              "<table class=\"dataframe\">\n",
              "<caption>A data.frame: 33 × 5</caption>\n",
              "<thead>\n",
              "\t<tr><th scope=col>Seq</th><th scope=col>DateListed</th><th scope=col>年度</th><th scope=col>月份</th><th scope=col>合計</th></tr>\n",
              "\t<tr><th scope=col>&lt;int&gt;</th><th scope=col>&lt;chr&gt;</th><th scope=col>&lt;int&gt;</th><th scope=col>&lt;int&gt;</th><th scope=col>&lt;int&gt;</th></tr>\n",
              "</thead>\n",
              "<tbody>\n",
              "\t<tr><td> 1</td><td>2021/03/03</td><td>109</td><td> 9</td><td> 9322</td></tr>\n",
              "\t<tr><td> 2</td><td>2021/03/03</td><td>109</td><td> 8</td><td>11308</td></tr>\n",
              "\t<tr><td> 3</td><td>2021/03/03</td><td>109</td><td> 7</td><td>12053</td></tr>\n",
              "\t<tr><td> 4</td><td>2021/03/03</td><td>109</td><td> 6</td><td>10041</td></tr>\n",
              "\t<tr><td> 5</td><td>2021/03/03</td><td>109</td><td> 5</td><td> 9840</td></tr>\n",
              "\t<tr><td> 6</td><td>2021/03/03</td><td>109</td><td> 4</td><td> 8391</td></tr>\n",
              "\t<tr><td> 7</td><td>2021/03/03</td><td>109</td><td> 3</td><td>19888</td></tr>\n",
              "\t<tr><td> 8</td><td>2021/03/03</td><td>109</td><td> 2</td><td>26820</td></tr>\n",
              "\t<tr><td> 9</td><td>2021/03/03</td><td>109</td><td> 1</td><td>35437</td></tr>\n",
              "\t<tr><td>10</td><td>2021/03/03</td><td>108</td><td>12</td><td>18967</td></tr>\n",
              "\t<tr><td>11</td><td>2021/03/03</td><td>108</td><td>11</td><td>33270</td></tr>\n",
              "\t<tr><td>12</td><td>2021/03/03</td><td>108</td><td>10</td><td>44463</td></tr>\n",
              "\t<tr><td>13</td><td>2021/03/03</td><td>108</td><td> 9</td><td>49851</td></tr>\n",
              "\t<tr><td>14</td><td>2021/03/03</td><td>108</td><td> 8</td><td>26029</td></tr>\n",
              "\t<tr><td>15</td><td>2021/03/03</td><td>108</td><td> 7</td><td>22659</td></tr>\n",
              "\t<tr><td>16</td><td>2021/03/03</td><td>108</td><td> 6</td><td>18403</td></tr>\n",
              "\t<tr><td>17</td><td>2021/03/03</td><td>108</td><td> 5</td><td>33070</td></tr>\n",
              "\t<tr><td>18</td><td>2021/03/03</td><td>108</td><td> 4</td><td>33313</td></tr>\n",
              "\t<tr><td>19</td><td>2021/03/03</td><td>108</td><td> 3</td><td>42547</td></tr>\n",
              "\t<tr><td>20</td><td>2021/03/03</td><td>108</td><td> 2</td><td>55740</td></tr>\n",
              "\t<tr><td>21</td><td>2021/03/03</td><td>108</td><td> 1</td><td>26819</td></tr>\n",
              "\t<tr><td>22</td><td>2021/03/03</td><td>107</td><td>12</td><td>24392</td></tr>\n",
              "\t<tr><td>23</td><td>2021/03/03</td><td>107</td><td>11</td><td>24283</td></tr>\n",
              "\t<tr><td>24</td><td>2021/03/03</td><td>107</td><td>10</td><td>39274</td></tr>\n",
              "\t<tr><td>25</td><td>2021/03/03</td><td>107</td><td> 9</td><td>38189</td></tr>\n",
              "\t<tr><td>26</td><td>2021/03/03</td><td>107</td><td> 8</td><td>33821</td></tr>\n",
              "\t<tr><td>27</td><td>2021/03/03</td><td>107</td><td> 7</td><td>34740</td></tr>\n",
              "\t<tr><td>28</td><td>2021/03/03</td><td>107</td><td> 6</td><td>25276</td></tr>\n",
              "\t<tr><td>29</td><td>2021/03/03</td><td>107</td><td> 5</td><td>29226</td></tr>\n",
              "\t<tr><td>30</td><td>2021/03/03</td><td>107</td><td> 4</td><td>49114</td></tr>\n",
              "\t<tr><td>31</td><td>2021/03/03</td><td>107</td><td> 3</td><td>36459</td></tr>\n",
              "\t<tr><td>32</td><td>2021/03/03</td><td>107</td><td> 2</td><td>36954</td></tr>\n",
              "\t<tr><td>33</td><td>2021/03/03</td><td>107</td><td> 1</td><td>18845</td></tr>\n",
              "</tbody>\n",
              "</table>\n"
            ]
          },
          "metadata": {
            "tags": []
          }
        }
      ]
    },
    {
      "cell_type": "code",
      "metadata": {
        "colab": {
          "base_uri": "https://localhost:8080/",
          "height": 34
        },
        "id": "TtyXjv6db6sT",
        "outputId": "62925167-690f-4ef8-c343-4c08719bdb40"
      },
      "source": [
        "head(dataset$年度,n=20)"
      ],
      "execution_count": 7,
      "outputs": [
        {
          "output_type": "display_data",
          "data": {
            "text/plain": [
              " [1] 109 109 109 109 109 109 109 109 109 108 108 108 108 108 108 108 108 108 108\n",
              "[20] 108"
            ],
            "text/latex": "\\begin{enumerate*}\n\\item 109\n\\item 109\n\\item 109\n\\item 109\n\\item 109\n\\item 109\n\\item 109\n\\item 109\n\\item 109\n\\item 108\n\\item 108\n\\item 108\n\\item 108\n\\item 108\n\\item 108\n\\item 108\n\\item 108\n\\item 108\n\\item 108\n\\item 108\n\\end{enumerate*}\n",
            "text/markdown": "1. 109\n2. 109\n3. 109\n4. 109\n5. 109\n6. 109\n7. 109\n8. 109\n9. 109\n10. 108\n11. 108\n12. 108\n13. 108\n14. 108\n15. 108\n16. 108\n17. 108\n18. 108\n19. 108\n20. 108\n\n\n",
            "text/html": [
              "<style>\n",
              ".list-inline {list-style: none; margin:0; padding: 0}\n",
              ".list-inline>li {display: inline-block}\n",
              ".list-inline>li:not(:last-child)::after {content: \"\\00b7\"; padding: 0 .5ex}\n",
              "</style>\n",
              "<ol class=list-inline><li>109</li><li>109</li><li>109</li><li>109</li><li>109</li><li>109</li><li>109</li><li>109</li><li>109</li><li>108</li><li>108</li><li>108</li><li>108</li><li>108</li><li>108</li><li>108</li><li>108</li><li>108</li><li>108</li><li>108</li></ol>\n"
            ]
          },
          "metadata": {
            "tags": []
          }
        }
      ]
    },
    {
      "cell_type": "code",
      "metadata": {
        "colab": {
          "base_uri": "https://localhost:8080/",
          "height": 34
        },
        "id": "bDMtZS2DcGq6",
        "outputId": "bed35a0e-6cab-44d5-ec59-504f95a35a9a"
      },
      "source": [
        "tail(dataset$月份,n=10)"
      ],
      "execution_count": 9,
      "outputs": [
        {
          "output_type": "display_data",
          "data": {
            "text/plain": [
              " [1] 10  9  8  7  6  5  4  3  2  1"
            ],
            "text/latex": "\\begin{enumerate*}\n\\item 10\n\\item 9\n\\item 8\n\\item 7\n\\item 6\n\\item 5\n\\item 4\n\\item 3\n\\item 2\n\\item 1\n\\end{enumerate*}\n",
            "text/markdown": "1. 10\n2. 9\n3. 8\n4. 7\n5. 6\n6. 5\n7. 4\n8. 3\n9. 2\n10. 1\n\n\n",
            "text/html": [
              "<style>\n",
              ".list-inline {list-style: none; margin:0; padding: 0}\n",
              ".list-inline>li {display: inline-block}\n",
              ".list-inline>li:not(:last-child)::after {content: \"\\00b7\"; padding: 0 .5ex}\n",
              "</style>\n",
              "<ol class=list-inline><li>10</li><li>9</li><li>8</li><li>7</li><li>6</li><li>5</li><li>4</li><li>3</li><li>2</li><li>1</li></ol>\n"
            ]
          },
          "metadata": {
            "tags": []
          }
        }
      ]
    },
    {
      "cell_type": "code",
      "metadata": {
        "colab": {
          "base_uri": "https://localhost:8080/",
          "height": 469
        },
        "id": "W_HBvsg6cUvy",
        "outputId": "d8322421-92a0-4a14-d896-4250743656ab"
      },
      "source": [
        "dataset[grepl(\"108\",dataset$年度),]"
      ],
      "execution_count": 11,
      "outputs": [
        {
          "output_type": "display_data",
          "data": {
            "text/plain": [
              "   Seq DateListed 年度 月份 合計 \n",
              "10 10  2021/03/03 108  12   18967\n",
              "11 11  2021/03/03 108  11   33270\n",
              "12 12  2021/03/03 108  10   44463\n",
              "13 13  2021/03/03 108   9   49851\n",
              "14 14  2021/03/03 108   8   26029\n",
              "15 15  2021/03/03 108   7   22659\n",
              "16 16  2021/03/03 108   6   18403\n",
              "17 17  2021/03/03 108   5   33070\n",
              "18 18  2021/03/03 108   4   33313\n",
              "19 19  2021/03/03 108   3   42547\n",
              "20 20  2021/03/03 108   2   55740\n",
              "21 21  2021/03/03 108   1   26819"
            ],
            "text/latex": "A data.frame: 12 × 5\n\\begin{tabular}{r|lllll}\n  & Seq & DateListed & 年度 & 月份 & 合計\\\\\n  & <int> & <chr> & <int> & <int> & <int>\\\\\n\\hline\n\t10 & 10 & 2021/03/03 & 108 & 12 & 18967\\\\\n\t11 & 11 & 2021/03/03 & 108 & 11 & 33270\\\\\n\t12 & 12 & 2021/03/03 & 108 & 10 & 44463\\\\\n\t13 & 13 & 2021/03/03 & 108 &  9 & 49851\\\\\n\t14 & 14 & 2021/03/03 & 108 &  8 & 26029\\\\\n\t15 & 15 & 2021/03/03 & 108 &  7 & 22659\\\\\n\t16 & 16 & 2021/03/03 & 108 &  6 & 18403\\\\\n\t17 & 17 & 2021/03/03 & 108 &  5 & 33070\\\\\n\t18 & 18 & 2021/03/03 & 108 &  4 & 33313\\\\\n\t19 & 19 & 2021/03/03 & 108 &  3 & 42547\\\\\n\t20 & 20 & 2021/03/03 & 108 &  2 & 55740\\\\\n\t21 & 21 & 2021/03/03 & 108 &  1 & 26819\\\\\n\\end{tabular}\n",
            "text/markdown": "\nA data.frame: 12 × 5\n\n| <!--/--> | Seq &lt;int&gt; | DateListed &lt;chr&gt; | 年度 &lt;int&gt; | 月份 &lt;int&gt; | 合計 &lt;int&gt; |\n|---|---|---|---|---|---|\n| 10 | 10 | 2021/03/03 | 108 | 12 | 18967 |\n| 11 | 11 | 2021/03/03 | 108 | 11 | 33270 |\n| 12 | 12 | 2021/03/03 | 108 | 10 | 44463 |\n| 13 | 13 | 2021/03/03 | 108 |  9 | 49851 |\n| 14 | 14 | 2021/03/03 | 108 |  8 | 26029 |\n| 15 | 15 | 2021/03/03 | 108 |  7 | 22659 |\n| 16 | 16 | 2021/03/03 | 108 |  6 | 18403 |\n| 17 | 17 | 2021/03/03 | 108 |  5 | 33070 |\n| 18 | 18 | 2021/03/03 | 108 |  4 | 33313 |\n| 19 | 19 | 2021/03/03 | 108 |  3 | 42547 |\n| 20 | 20 | 2021/03/03 | 108 |  2 | 55740 |\n| 21 | 21 | 2021/03/03 | 108 |  1 | 26819 |\n\n",
            "text/html": [
              "<table class=\"dataframe\">\n",
              "<caption>A data.frame: 12 × 5</caption>\n",
              "<thead>\n",
              "\t<tr><th></th><th scope=col>Seq</th><th scope=col>DateListed</th><th scope=col>年度</th><th scope=col>月份</th><th scope=col>合計</th></tr>\n",
              "\t<tr><th></th><th scope=col>&lt;int&gt;</th><th scope=col>&lt;chr&gt;</th><th scope=col>&lt;int&gt;</th><th scope=col>&lt;int&gt;</th><th scope=col>&lt;int&gt;</th></tr>\n",
              "</thead>\n",
              "<tbody>\n",
              "\t<tr><th scope=row>10</th><td>10</td><td>2021/03/03</td><td>108</td><td>12</td><td>18967</td></tr>\n",
              "\t<tr><th scope=row>11</th><td>11</td><td>2021/03/03</td><td>108</td><td>11</td><td>33270</td></tr>\n",
              "\t<tr><th scope=row>12</th><td>12</td><td>2021/03/03</td><td>108</td><td>10</td><td>44463</td></tr>\n",
              "\t<tr><th scope=row>13</th><td>13</td><td>2021/03/03</td><td>108</td><td> 9</td><td>49851</td></tr>\n",
              "\t<tr><th scope=row>14</th><td>14</td><td>2021/03/03</td><td>108</td><td> 8</td><td>26029</td></tr>\n",
              "\t<tr><th scope=row>15</th><td>15</td><td>2021/03/03</td><td>108</td><td> 7</td><td>22659</td></tr>\n",
              "\t<tr><th scope=row>16</th><td>16</td><td>2021/03/03</td><td>108</td><td> 6</td><td>18403</td></tr>\n",
              "\t<tr><th scope=row>17</th><td>17</td><td>2021/03/03</td><td>108</td><td> 5</td><td>33070</td></tr>\n",
              "\t<tr><th scope=row>18</th><td>18</td><td>2021/03/03</td><td>108</td><td> 4</td><td>33313</td></tr>\n",
              "\t<tr><th scope=row>19</th><td>19</td><td>2021/03/03</td><td>108</td><td> 3</td><td>42547</td></tr>\n",
              "\t<tr><th scope=row>20</th><td>20</td><td>2021/03/03</td><td>108</td><td> 2</td><td>55740</td></tr>\n",
              "\t<tr><th scope=row>21</th><td>21</td><td>2021/03/03</td><td>108</td><td> 1</td><td>26819</td></tr>\n",
              "</tbody>\n",
              "</table>\n"
            ]
          },
          "metadata": {
            "tags": []
          }
        }
      ]
    },
    {
      "cell_type": "code",
      "metadata": {
        "colab": {
          "base_uri": "https://localhost:8080/",
          "height": 68
        },
        "id": "ujpcVUt5cgGd",
        "outputId": "6bd9c4f7-103a-4e2c-d6a2-b37125ab8231"
      },
      "source": [
        "table(dataset$月份)"
      ],
      "execution_count": 12,
      "outputs": [
        {
          "output_type": "display_data",
          "data": {
            "text/plain": [
              "\n",
              " 1  2  3  4  5  6  7  8  9 10 11 12 \n",
              " 3  3  3  3  3  3  3  3  3  2  2  2 "
            ]
          },
          "metadata": {
            "tags": []
          }
        }
      ]
    }
  ]
}